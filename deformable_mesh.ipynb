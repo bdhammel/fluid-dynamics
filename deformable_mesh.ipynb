{
 "cells": [
  {
   "cell_type": "markdown",
   "metadata": {},
   "source": [
    "# Deformable mesh\n",
    "\n",
    "varying spatial step across system\n",
    "\n",
    "forwards and backward moving avection equaiton\n",
    "\n",
    "$$\n",
    "\\left (\\frac{\\partial}{\\partial t} - c \\frac{\\partial}{\\partial x} \\right )\\left (\\frac{\\partial}{\\partial t} + c \\frac{\\partial}{\\partial x} \\right )\\psi = 0\n",
    "$$\n",
    "\n",
    "temporal derivative\n",
    "\n",
    "$$\n",
    "\\frac{\\partial^2 \\psi^{n}_{i}}{\\partial t^2} \\approx \\frac{\\psi^{n+1}_{i} + \\psi^{n-1}_{i} - 2\\psi^{n}_{i}}{\\Delta t^2}\n",
    "$$\n",
    "\n",
    "Spatial derivative\n",
    "\n",
    "$$\n",
    "\\Delta x_{-} \\left ( \\psi_{i+1} = \\psi_{i} + \\Delta x_{+} \\frac{\\partial \\psi_{i}}{\\partial x} + \\frac{\\Delta x_{+}^2}{2} \\frac{\\partial^2 \\psi_{i}}{\\partial x^2} + \\mathcal{O}(\\Delta x_{+}^3, \\Delta x_{-}^3) \\right ) \\\\\n",
    "\\Delta x_{+} \\left ( \\psi_{i-1} = \\psi_{i} - \\Delta x_{-} \\frac{\\partial \\psi_{i}}{\\partial x} + \\frac{\\Delta x_{-}^2}{2} \\frac{\\partial^2 \\psi_{i}}{\\partial x^2} + \\mathcal{O}(\\Delta x_{+}^3, \\Delta x_{-}^3) \\right )\n",
    "$$\n",
    "\n",
    "leading to :\n",
    "\n",
    "$$\n",
    "\\cfrac{\\partial^2 \\psi_{i}}{\\partial x^{2}} \\approx \\cfrac{\\Delta x_{-}\\psi_{i+1} + \\Delta x_{+}\\psi_{i-1}-\\psi_{i}(\\Delta x_{+} + \\Delta x_{-})}{\\cfrac{\\Delta x_{+}\\Delta x_{-}}{2} (\\Delta x_{+}+\\Delta x_{-})}\n",
    "$$\n",
    "\n",
    "Discritization\n",
    "\n",
    "$$\n",
    "u^{n+1}_{i} = c^2\\Delta t^2\\left (\\cfrac{\\Delta x_{i-1}u_{i+1}^{n} + \\Delta x_{i+1}u_{i-1}^{n}-u_{i}^{n}(\\Delta x_{i+1} + \\Delta x_{i-1})}{\\cfrac{\\Delta x_{i+1}\\Delta x_{i-1}}{2} (\\Delta x_{i+1}+\\Delta x_{i-1})} \\right ) - u_{i}^{n-1} + 2u_{i}^{n}\n",
    "$$\n",
    "\n",
    "## Mesh creation\n",
    "\n",
    "$$\n",
    "\\Delta x = \\Delta x_0 r^{n}\n",
    "$$\n",
    "$$\n",
    "\\sum^{ix}_{n} \\Delta x_0 r^{n} = L = \\Delta x_0 \\frac{1-r^{n}}{1-r}\n",
    "$$"
   ]
  },
  {
   "cell_type": "code",
   "execution_count": 1,
   "metadata": {
    "collapsed": false
   },
   "outputs": [
    {
     "name": "stdout",
     "output_type": "stream",
     "text": [
      "Once deleted, variables cannot be recovered. Proceed (y/[n])? y\n",
      "Populating the interactive namespace from numpy and matplotlib\n"
     ]
    }
   ],
   "source": [
    "%reset\n",
    "import numpy as np\n",
    "import matplotlib.pyplot as plt\n",
    "%pylab inline"
   ]
  },
  {
   "cell_type": "code",
   "execution_count": 2,
   "metadata": {
    "collapsed": false
   },
   "outputs": [],
   "source": [
    "xmin = 0\n",
    "xmax = 10.\n",
    "ix = 600\n",
    "tstop = 4.\n",
    "r = .99\n",
    "\n",
    "\"\"\"\n",
    "x = np.linspace(xmin, xmax, ix)\n",
    "dx = np.diff(x)\n",
    "\"\"\"\n",
    "dx = (xmax-xmin)/2.*(1-r)/(1-r**(ix/2))\n",
    "x1 = [dx*r**n for n in range(0,(ix)/2)]\n",
    "x2 = [dx*r**n for n in range(0,(ix)/2)][::-1]\n",
    "dx = np.append(x1,x2)\n",
    "x = np.cumsum(dx)\n"
   ]
  },
  {
   "cell_type": "code",
   "execution_count": 3,
   "metadata": {
    "collapsed": false
   },
   "outputs": [],
   "source": [
    "#plt.plot(dx)"
   ]
  },
  {
   "cell_type": "code",
   "execution_count": 4,
   "metadata": {
    "collapsed": false
   },
   "outputs": [
    {
     "name": "stdout",
     "output_type": "stream",
     "text": [
      "0.000260454189506\n",
      "15357.7871317\n"
     ]
    }
   ],
   "source": [
    "node_c = np.ones_like(x)\n",
    "node_c[ix/2:]=.5\n",
    "\n",
    "xcen = x #x[:-1] - dx/2.\n",
    "c = node_c\n",
    "\n",
    "dt = .1*dx.min()/(c.max())\n",
    "\n",
    "u = np.zeros_like(dx)\n",
    "un = np.zeros_like(u)\n",
    "nu = np.zeros_like(u)\n",
    "\n",
    "gauss = lambda tp, b: np.exp(-(tp-b)**2/.1)\n",
    "top_hat = lambda t: 1 if t<1 else 0\n",
    "\n",
    "\"\"\"\n",
    "nu = gauss(xcen, 1.)\n",
    "un = gauss(xcen, (1.+c[0]*dt))\n",
    "\"\"\"\n",
    "print dt\n",
    "print tstop/dt"
   ]
  },
  {
   "cell_type": "code",
   "execution_count": 5,
   "metadata": {
    "collapsed": false
   },
   "outputs": [
    {
     "data": {
      "text/plain": [
       "(0, 10.0)"
      ]
     },
     "execution_count": 5,
     "metadata": {},
     "output_type": "execute_result"
    },
    {
     "data": {
      "image/png": "[encoded data removed]",
      "text/plain": [
       "<matplotlib.figure.Figure at 0x10ebbb250>"
      ]
     },
     "metadata": {},
     "output_type": "display_data"
    }
   ],
   "source": [
    "plt.plot(xcen, un)\n",
    "plt.plot(xcen, nu, \"r--\")\n",
    "plt.plot(xcen, 1.-c)\n",
    "plt.xlim(xmin,xmax)"
   ]
  },
  {
   "cell_type": "code",
   "execution_count": 6,
   "metadata": {
    "collapsed": false
   },
   "outputs": [],
   "source": [
    "t = 0 \n",
    "while t < tstop:\n",
    "    u[1:-1] = -1*nu[1:-1] + 2*un[1:-1] + 2.*c[1:-1]**2 * dt**2 * ( dx[:-2]*un[2:] + dx[2:]*un[:-2] - un[1:-1]*(dx[2:]+dx[:-2])) / (dx[2:]*dx[:-2]*(dx[2:]+dx[:-2]))\n",
    "    # u[0] = top_hat(t)\n",
    "    u[0] = gauss(t, 1.)\n",
    "    nu = un.copy()\n",
    "    un = u.copy()\n",
    "    t += dt\n",
    "    "
   ]
  },
  {
   "cell_type": "code",
   "execution_count": 7,
   "metadata": {
    "collapsed": false
   },
   "outputs": [
    {
     "data": {
      "text/plain": [
       "(0, 10.0)"
      ]
     },
     "execution_count": 7,
     "metadata": {},
     "output_type": "execute_result"
    },
    {
     "data": {
      "image/png": "[encoded data removed]",
      "text/plain": [
       "<matplotlib.figure.Figure at 0x112aaf350>"
      ]
     },
     "metadata": {},
     "output_type": "display_data"
    }
   ],
   "source": [
    "plt.plot(xcen, u)\n",
    "plt.plot(xcen, 1.-c)\n",
    "plt.xlim(xmin,xmax)"
   ]
  },
  {
   "cell_type": "markdown",
   "metadata": {},
   "source": [
    " > nonphysical reflections encountered in the discretization of wave equations on nonuniform grids. Such nonphysical solutions are commonly attributed to spurious modes in the numerical dispersion relation. http://wwwf.imperial.ac.uk/~sreich/04_2.pdf"
   ]
  },
  {
   "cell_type": "code",
   "execution_count": null,
   "metadata": {
    "collapsed": true
   },
   "outputs": [],
   "source": []
  }
 ],
 "metadata": {
  "kernelspec": {
   "display_name": "Python 2",
   "language": "python",
   "name": "python2"
  },
  "language_info": {
   "codemirror_mode": {
    "name": "ipython",
    "version": 2
   },
   "file_extension": ".py",
   "mimetype": "text/x-python",
   "name": "python",
   "nbconvert_exporter": "python",
   "pygments_lexer": "ipython2",
   "version": "2.7.9"
  }
 },
 "nbformat": 4,
 "nbformat_minor": 0
}
