{
 "cells": [
  {
   "cell_type": "markdown",
   "metadata": {},
   "source": [
    "# Lagrangian\n",
    "\n",
    "Following paper\n",
    "\n",
    "_Introduction to Finite-Difference Methods for Numerical Fluid Dynamics_  \n",
    "by  \n",
    "Evan Scannapieco  \n",
    "Francis Harlow  \n",
    "\n",
    "Generation of mesh with the following notation\n",
    "\n",
    "<img src=\"largrangemeshsys.tiff\">\n",
    "<img src=\"largrangemesh.tiff\">\n",
    "\n",
    "Such that nodes are denoted \\\\(j \\pm \\frac{1}{2} \\\\) and zones are denoted \\\\(j \\pm 1 \\\\)\n",
    "\n"
   ]
  },
  {
   "cell_type": "markdown",
   "metadata": {},
   "source": [
    "## Step 1\n",
    "\n",
    "__Find the positon of the right wall of zone, $j$, at the end of the timestep__\n",
    "\n",
    "Starting with the definition:\n",
    "\n",
    "$$\n",
    "\\frac{\\partial x}{\\partial t}=u \\\\\n",
    "\\frac{x^{n+1}_{j+1/2} - x^{n-1}_{j-1/2}}{\\Delta t} = u^{n}_{j+1/2}\n",
    "$$\n",
    "\n"
   ]
  },
  {
   "cell_type": "markdown",
   "metadata": {},
   "source": [
    "Equations to solve:\n",
    "\n",
    "\\begin{align}\n",
    "u^{n+1}_{j+/2} &= u^{n}_{j+1/2} = \\frac{dt}{M}(p^{n}_{j}+q^{n}_{j} - p^{n}_{j+1} - q^{n}_{j+1}) \\\\\n",
    "\\rho^{n}_{j} &= \\frac{M}{x^{n}_{j+1/2} - x^{n}_{j-1/2}} \\\\\n",
    "I^{n+1}_i &=I^n_i+\\frac{dt}{M}\\left(p^n_i + q^n_i \\right)\\left(u^n_{i-\\frac{1}{2}} - u^n_{i+\\frac{1}{2}} \\right)\\\\\n",
    "p^n_j &=\\left(\\gamma -1 \\right)\\rho^n_j I^n_j \\\\\n",
    "q^n_j &= \\left\\{\\begin{matrix} \n",
    "q_0 \\rho^n_j c \\left(u^n_{i-\\frac{1}{2}} - u^n_{i+\\frac{1}{2}} \\right ) & \\text{if positive} \\\\ \n",
    "0 & \\text{if negative}\n",
    "\\end{matrix}\\right.\n",
    "\\end{align}"
   ]
  },
  {
   "cell_type": "markdown",
   "metadata": {},
   "source": [
    "Discritization:"
   ]
  },
  {
   "cell_type": "code",
   "execution_count": 1,
   "metadata": {
    "collapsed": false
   },
   "outputs": [],
   "source": [
    "import numpy as np\n",
    "from matplotlib import pyplot as plt\n",
    "from matplotlib import animation\n",
    "from tempfile import NamedTemporaryFile\n",
    "from IPython.display import HTML\n",
    "\n",
    "%matplotlib inline"
   ]
  },
  {
   "cell_type": "code",
   "execution_count": 2,
   "metadata": {
    "collapsed": true
   },
   "outputs": [],
   "source": [
    "class System(object):\n",
    "    def __init__(self, x, u, rho, sie, p, q):\n",
    "        self.x = x\n",
    "        self.u = u\n",
    "        self.rho = rho\n",
    "        self.sie = sie\n",
    "        self.p = p\n",
    "        self.q = q\n",
    "        \n",
    "dumps = []"
   ]
  },
  {
   "cell_type": "code",
   "execution_count": 3,
   "metadata": {
    "collapsed": false
   },
   "outputs": [],
   "source": [
    "xmin = 0.\n",
    "xmax = 10.\n",
    "ul = .5\n",
    "ur = 0.\n",
    "gamma = 5./3.\n",
    "jx = 18\n",
    "rho0 = 1.\n",
    "sie0 = 0.\n",
    "q0 = .3\n",
    "\n",
    "t = 0.\n",
    "dt = .05\n",
    "jbar = jx+1\n",
    "tstop = 10\n",
    "jxiter = np.arange(1,jbar)"
   ]
  },
  {
   "cell_type": "code",
   "execution_count": 4,
   "metadata": {
    "collapsed": true
   },
   "outputs": [],
   "source": [
    "x = np.linspace(xmin, xmax, jbar+1)\n",
    "u = np.empty(jbar+1); u.fill(ur)\n",
    "rho = np.empty(jbar); rho.fill(rho0)\n",
    "sie = np.empty(jbar); sie.fill(sie0)\n",
    "q = np.empty(jbar); q.fill(0.)\n",
    "p = np.empty(jbar); p.fill(0.)\n",
    "\n",
    "M = rho[0]*(x[1]-x[0])"
   ]
  },
  {
   "cell_type": "code",
   "execution_count": 5,
   "metadata": {
    "collapsed": true
   },
   "outputs": [],
   "source": [
    "def xn(x, u):\n",
    "    \"\"\"Update the position of node j (j+1/2) for a given timestep\n",
    "    Args\n",
    "    ----\n",
    "    x (array) : position  of nodes\n",
    "    u (array) : velocity of nodes\n",
    "    j (int) : spatial logic index\n",
    "    \n",
    "    Logic\n",
    "    -----\n",
    "    xn(j) = x(j) + u(j)dt\n",
    "    \"\"\"\n",
    "    return x + u*dt"
   ]
  },
  {
   "cell_type": "code",
   "execution_count": 6,
   "metadata": {
    "collapsed": false
   },
   "outputs": [],
   "source": [
    "def un(u, p, q):\n",
    "    \"\"\"Update the velocity of node j for a given timestep\n",
    "    Args\n",
    "    ----\n",
    "    u (array) : velocity of nodes\n",
    "    p (array) : pressure in zones \n",
    "    q (array) : artificial viscious pressure\n",
    "    j (int) : spatial logic index\n",
    "    \n",
    "    Logic\n",
    "    -----\n",
    "    un(j) = u(j) + (dt/M) * (p(j-1) + q(j-1) - p(j) - q(j))\n",
    "    \"\"\"\n",
    "    return u[1:-1] + dt/M * (p[:-1] + q[:-1] - p[1:] - q[1:])"
   ]
  },
  {
   "cell_type": "code",
   "execution_count": 7,
   "metadata": {
    "collapsed": true
   },
   "outputs": [],
   "source": [
    "def rhon(x):\n",
    "    \"\"\"Update density of zone j for given time step\n",
    "    Args\n",
    "    ----\n",
    "    x (array) : position  of nodes\n",
    "    \n",
    "    Logic\n",
    "    -----\n",
    "    rhon = M (xn(j+1) - xn(j))\n",
    "    \"\"\"\n",
    "    return M / (x[1:] - x[:-1])"
   ]
  },
  {
   "cell_type": "code",
   "execution_count": 8,
   "metadata": {
    "collapsed": true
   },
   "outputs": [],
   "source": [
    "def sien(sie, q, p, u):\n",
    "    \"\"\"Update internal energy of zone\n",
    "    Args\n",
    "    ----\n",
    "    sie (array) : internal energy\n",
    "    p (array) : pressure in zones \n",
    "    q (array) : artificial viscious pressure\n",
    "    u (array) : velocity of nodes\n",
    "    j (int) : spatial logic index\n",
    "    \n",
    "    Logic\n",
    "    -----\n",
    "    In = I[j] = dt/M (q[j] + p[j]) (u[j]-u[j+1])\n",
    "    \"\"\"\n",
    "    return sie + (dt/M) * (q + p) * (u[:-1] - u[1:])"
   ]
  },
  {
   "cell_type": "code",
   "execution_count": 9,
   "metadata": {
    "collapsed": true
   },
   "outputs": [],
   "source": [
    "def pn(rho, sie):\n",
    "    \"\"\"Update pressure\n",
    "    Args\n",
    "    ----\n",
    "    sie (array) : internal energy\n",
    "    rho (array) : density in zones \n",
    "    j (int) : spatial logic index\n",
    "\n",
    "    Logic\n",
    "    -----\n",
    "    pn = (gamma-1) * rhon[j] * sien[j]\n",
    "    \"\"\"\n",
    "    return (gamma-1) * rho * sie"
   ]
  },
  {
   "cell_type": "code",
   "execution_count": 10,
   "metadata": {
    "collapsed": true
   },
   "outputs": [],
   "source": [
    "def qn(rho, u, sie):\n",
    "    \"\"\"Artificial viscious pressure\n",
    "    Args\n",
    "    ----\n",
    "    u (array) : velocity of nodes\n",
    "    rho (array) : density in zones \n",
    "    sie (array) : internal energy (needed to calculate c)\n",
    "    j (int) : spatial logic index\n",
    "\n",
    "    Logic\n",
    "    -----\n",
    "    qn[j] = q0 * rhon[j] * cn * (un[j] - un[j+1])\n",
    "    \n",
    "    q = qn if \n",
    "    \"\"\"\n",
    "    qn = q0 * rho * c(sie) * (u[:-1] - u[1:])\n",
    "    qn[qn<0]=0\n",
    "    return qn\n"
   ]
  },
  {
   "cell_type": "code",
   "execution_count": 11,
   "metadata": {
    "collapsed": true
   },
   "outputs": [],
   "source": [
    "def c(sie):\n",
    "    \"\"\"Characteristic velosity\n",
    "    Only serves to make the equation dimensionally correct\n",
    "    \n",
    "    Logic\n",
    "    ------\n",
    "    c = piston speed + sound speed of fluid\n",
    "    sound speed of fluid = ((gamma^2 - gamma)I(j))^(1/2)\n",
    "    \"\"\"\n",
    "    return ul + np.sqrt(gamma*(gamma-1.)*sie)"
   ]
  },
  {
   "cell_type": "code",
   "execution_count": 12,
   "metadata": {
    "collapsed": true
   },
   "outputs": [],
   "source": [
    "def piston(t):\n",
    "    if t<4.:\n",
    "        return ul\n",
    "    else:\n",
    "        return 0"
   ]
  },
  {
   "cell_type": "code",
   "execution_count": 13,
   "metadata": {
    "collapsed": false
   },
   "outputs": [],
   "source": [
    "dumps={'rho':[],'pos':[],'pres':[],'visc':[],'vel':[],'c':[]}\n",
    "\n",
    "dumps['rho'].append(rho.copy())\n",
    "dumps['pos'].append(x.copy())\n",
    "dumps['vel'].append(u.copy())\n",
    "dumps['pres'].append(p.copy())\n",
    "dumps['visc'].append(q.copy())\n",
    "\n",
    "\n",
    "#assert False\n",
    "while t <= 4.:\n",
    "    u[0] = piston(t)\n",
    "    u[jx] = ur\n",
    "    #x[0] = x[0] + u[0]*dt\n",
    "\n",
    "    x = xn(x, u)\n",
    "    u[1:-1] = un(u, p, q)\n",
    "    rho = rhon(x)\n",
    "    sie = sien(sie, q, p, u)\n",
    "    p = pn(rho, sie)\n",
    "    q = qn(rho, u, sie)\n",
    "        \n",
    "    \"\"\"\n",
    "    if t % 2 == 0:\n",
    "        dumps.append(system.copy())\n",
    "    \"\"\"\n",
    "    \n",
    "    t+=dt\n",
    "    \n",
    "    if (round(t,2)%1.0==0.0):\n",
    "        dumps['rho'].append(rho.copy())\n",
    "        dumps['pos'].append(x.copy())\n",
    "        dumps['vel'].append(u.copy())\n",
    "        dumps['pres'].append(p.copy())\n",
    "        dumps['visc'].append(q.copy())"
   ]
  },
  {
   "cell_type": "code",
   "execution_count": null,
   "metadata": {
    "collapsed": false
   },
   "outputs": [],
   "source": []
  },
  {
   "cell_type": "code",
   "execution_count": null,
   "metadata": {
    "collapsed": false
   },
   "outputs": [],
   "source": []
  },
  {
   "cell_type": "code",
   "execution_count": 14,
   "metadata": {
    "collapsed": false
   },
   "outputs": [],
   "source": [
    "rho = np.insert(rho, 0, 0)\n",
    "#xcen = x[:-1] - (x[:-1]-x[1:])/2"
   ]
  },
  {
   "cell_type": "code",
   "execution_count": 15,
   "metadata": {
    "collapsed": false
   },
   "outputs": [
    {
     "data": {
      "text/plain": [
       "(0, 10)"
      ]
     },
     "execution_count": 15,
     "metadata": {},
     "output_type": "execute_result"
    },
    {
     "data": {
      "image/png": "[encoded data removed]",
      "text/plain": [
       "<matplotlib.figure.Figure at 0x10f5b6310>"
      ]
     },
     "metadata": {},
     "output_type": "display_data"
    }
   ],
   "source": [
    "plt.plot(x, rho, 'k-o')\n",
    "plt.xlim(0,10)"
   ]
  },
  {
   "cell_type": "code",
   "execution_count": 16,
   "metadata": {
    "collapsed": false
   },
   "outputs": [],
   "source": [
    "VIDEO_TAG = \"\"\"<video controls>\n",
    " <source src=\"data:video/x-m4v;base64,{0}\" type=\"video/mp4\">\n",
    " Your browser does not support the video tag.\n",
    "</video>\"\"\"\n",
    "\n",
    "def anim_to_html(anim):\n",
    "    if not hasattr(anim, '_encoded_video'):\n",
    "        with NamedTemporaryFile(suffix='.mp4') as f:\n",
    "            anim.save(f.name, fps=5, extra_args=['-vcodec', 'libx264'])\n",
    "            video = open(f.name, \"rb\").read()\n",
    "        anim._encoded_video = video.encode(\"base64\")\n",
    "    \n",
    "    return VIDEO_TAG.format(anim._encoded_video)\n",
    "def display_animation(anim):\n",
    "    plt.close(anim._fig)\n",
    "    return HTML(anim_to_html(anim))\n",
    "\n",
    "# initialization function: plot the background of each frame\n",
    "def init():\n",
    "    line.set_data([], [])\n",
    "    return line,\n",
    "\n",
    "# animation function.  This is called sequentially\n",
    "def animate(i):\n",
    "    b=np.insert(dumps['rho'][i],0,0)\n",
    "    a=dumps['pos'][i]\n",
    "    line.set_data(a,b)\n",
    "    return line,"
   ]
  },
  {
   "cell_type": "code",
   "execution_count": 17,
   "metadata": {
    "collapsed": false
   },
   "outputs": [
    {
     "data": {
      "text/html": [
       "<video controls>\n",
       " <source src=\"data:video/x-m4v;base64,AAAAIGZ0eXBpc29tAAACAGlzb21pc28yYXZjMW1wNDEAAAAIZnJlZQAAFtVtZGF0AAACrAYF//+o\n",
       "3EXpvebZSLeWLNgg2SPu73gyNjQgLSBjb3JlIDE0NCByMjUzMyBjOGE3NzNlIC0gSC4yNjQvTVBF\n",
       "Ry00IEFWQyBjb2RlYyAtIENvcHlsZWZ0IDIwMDMtMjAxNSAtIGh0dHA6Ly93d3cudmlkZW9sYW4u\n",
       "b3JnL3gyNjQuaHRtbCAtIG9wdGlvbnM6IGNhYmFjPTEgcmVmPTMgZGVibG9jaz0xOjA6MCBhbmFs\n",
       "eXNlPTB4MzoweDExMyBtZT1oZXggc3VibWU9NyBwc3k9MSBwc3lfcmQ9MS4wMDowLjAwIG1peGVk\n",
       "X3JlZj0xIG1lX3JhbmdlPTE2IGNocm9tYV9tZT0xIHRyZWxsaXM9MSA4eDhkY3Q9MSBjcW09MCBk\n",
       "ZWFkem9uZT0yMSwxMSBmYXN0X3Bza2lwPTEgY2hyb21hX3FwX29mZnNldD00IHRocmVhZHM9NiBs\n",
       "b29rYWhlYWRfdGhyZWFkcz0xIHNsaWNlZF90aHJlYWRzPTAgbnI9MCBkZWNpbWF0ZT0xIGludGVy\n",
       "bGFjZWQ9MCBibHVyYXlfY29tcGF0PTAgY29uc3RyYWluZWRfaW50cmE9MCBiZnJhbWVzPTMgYl9w\n",
       "eXJhbWlkPTIgYl9hZGFwdD0xIGJfYmlhcz0wIGRpcmVjdD0xIHdlaWdodGI9MSBvcGVuX2dvcD0w\n",
       "IHdlaWdodHA9MiBrZXlpbnQ9MjUwIGtleWludF9taW49NSBzY2VuZWN1dD00MCBpbnRyYV9yZWZy\n",
       "ZXNoPTAgcmNfbG9va2FoZWFkPTQwIHJjPWNyZiBtYnRyZWU9MSBjcmY9MjMuMCBxY29tcD0wLjYw\n",
       "IHFwbWluPTAgcXBtYXg9NjkgcXBzdGVwPTQgaXBfcmF0aW89MS40MCBhcT0xOjEuMDAAgAAACS9l\n",
       "iIQAEf/+91H8Cm3QIDe///T/5OeFICiOeOvwAADHONiAKl4dDVNr0HbdVGX4HocjpSTtiwqXrF8f\n",
       "5L/4Kv+9NniV7LaVQYK+EsT4lU/OmwSmCuWrbvDJAiYq/SKIsTUQsX8W3/8iX/YtUkNKmGp+/lhv\n",
       "8+HkyPwb9tvR4lTYoJOMEUOQLbIJnqS8PWYlryCw5C+I6qWk3v3bpX/5e6IZ/8YJ5XFJW6XxsC0L\n",
       "2zixviZ5HyRcw/LVJCr3Gfdpe/8aWbBuBJeIozkyb6XmsZtvpEzKYDmJ3wxRDhL8fAo0VcqK35ke\n",
       "gA0yQR4NsKXhkRe9crkAQBivCAw9f9Sq6hxTsWPapCtn6+KOOEJnb0cTonwLaCa6pLwg3sLwLpWf\n",
       "P8mrTz9maAAAvyB4cJTe6eEgMw9fqUKSr9ZOLtLU1I6czf+BzfZgKZMj9GJvFIi4w8AGkG5DcWAo\n",
       "QGzk6RDxmly4+QY801zFPTnE7g7AAAj8ticD5io3s6ZTVj+UrTNXtIxzNMge2cBfeZH7/EgywQVQ\n",
       "zdRoiR59FBBc4JM9rokrBmUYK5JsSnbhRC42wnJsfiGsI2so0EunPtiW5KndpR2n1y0Aa4wd7Vsi\n",
       "KqwHGOuxl8pqHeHQiFS78fHmhJ7E1NzEoLwAIZX2M352U+KQe/2XVqTOivnS2szlZ5k7aEEBIAAk\n",
       "sytUpHHDDsP+dkOPIY6qIZF/Wvv3aAPA2cE3FmKFDQGh4MLn+G137wa1qEWxV1Y5laMGsmIADVb7\n",
       "lesHSQxCTVy4CzifRcYuqCjf0GPOfu5PMlTCrV7Xs7FeSXR1wg+kVcTg7saskh7fpTbGLXrWWxvb\n",
       "NMlI9l7a6bUX5mnjfE/oYAfvfCy64vciwrOvUwwFUVrFB6ELuplbCN1JPGR6oMxlA2a49AoOUY/r\n",
       "LZA2rka5c/8Mrocok+952Wc6+oyYHtqJL/iHiqXMX0YcIXlj79mf4dSIKODs3trDUdofQSr0x39a\n",
       "81tMHma+h10QQ4wR9pri1NvccG5mkK37lAAPUTjY1vejCGvCPuXJUqP7MCzC+mZB4FfhxMWExlf1\n",
       "CnBgWoHRw4BxCksqJwTvoSOMoodfkrha84SA3UIGYREF/ZWGdbEm+tz7RTIVnHUsAFQdDzCozTXi\n",
       "4ysbOW2LKGwBqA/ho8bUmQmhlVZdIXKc7JyIpGCdD3KU+OD1KJ6XC/8mFfiJhhD1fUpiwMONToM+\n",
       "EhhEC6egXMUDTrIU0C5gJa8vzj5lLUqqps2gUUv/ClxDlKVP16Wh3KXPh5ogyqgL5f7ijPAiXJ3g\n",
       "MoWD9gV3ASZt3LdVYPCM9ZFIlq1Ye/iQQhAMvpTwKOFLhfSl0eN2ZZGak7m+kkRVuXri1CUZ/E5k\n",
       "Ij+k0+cRLDWLCMxyO5KB1VNXcJEDuES7i8p8Ki9jLyXqY8UGfCcF5mQrWlSjP2wxsa+aI5XFBT9M\n",
       "JdmSxqeVM0muB89frDW6JULkpynWIabXGQ+Z9wDQjYoXo9YIpm8GuFf66+w14y1QHe6j6j4KzTaJ\n",
       "RaoFjSAslpGrbiWJryCNIE/GtKeLS2KkS+7uHOxJwfHtMgZLBeyfhrxCREKnH82IzdWHV537Xq7r\n",
       "mpWxgWI/v79zM+lzd+VYmBrVrZdQWNsQ3+prmlV7O16/FUZFm1rG5tS5CnopII9aXnhxHUP7UT4f\n",
       "MzKwWDW4z0uwfyQEx2/REGxoqVWN15enEQQZWs7WXI8vRbEO69L4GilZnp6mMS0tM3J+KzinRqQM\n",
       "9BhAluCaj/r9SBOUQFI1mWh1KY5l034cL4jaQJY1Vq+fo91ciiZp+flGehQuL3IGQtwf/qZXzy2W\n",
       "/R0D4srZWkH2JO0gCj87QTIbBHknKD0yhKiO7Wvsd54nEbMplOMX8NMzCfkkb77PfmExvrb0s0M8\n",
       "PvJxLmTzILUFCmdDlaHbE6gY5Yu/O5QRM/NtuqRsH07S7aYyCDw9lTapdI8pv4uneVqNEx3PVlhS\n",
       "ATCtvLy6fwLVwnhBctYmlMZGn3dP12drm3i/hBs48qXhB/55zVrelaT8iIO5Hd/EZ4TPNnkMMGPx\n",
       "LkuzxnZri6fiaIlCOC0J1P4cwzJkWzGa+KupHtmEZ9bSZkZKlcr/2UjK4x3iudRRK/RWJfiL72UK\n",
       "HHN13IGrWzMd8w/EpDEnEJO/hFipmB0I+ZFW+Ux0w3x9lSgWaA3Id+fLoBC7HD4X/qe9Q8oR3Elm\n",
       "Sb94KbzxfKr2auxeJVRfjWUU139zhZYvDzCvwu0En0TyY7oOXG7YS4oqAlnMM5WmrtoTPYPRUYrn\n",
       "HhaSP6e8XzEVOJ8AQrjWPVbzPj6dMH/HOm43qDo4uC9wVM6tUA9vsl+Y20YFPW4gzNpj7VMo+XUo\n",
       "XZU7ouPka/sfdtqaITd+Pip+J5X9w/10kSoymBb0U8dHy7u2q2Dl/3rl+IpxxsTavjHRMfsq+uMn\n",
       "WRcfJSvXH9EJhvgttvlGpZbJXYBP8PB9GsAWfZX+8od1DUCDiF6w8J56XFoPQW7qprif/pZG9wHM\n",
       "OwHJvjOa4vOjT00+4JNUmKFDgnuWHhIuB2n6BlLIw/TzFqjdHvsq+KCOwZfrTdWgA8k9PjSF6c4O\n",
       "uzn3TdyAnHf7jbKLewbMTKhI1PqWChNJWKQTNVH3CHpupi+AqN4rkofKAF5R7VaT6hOauFski0x4\n",
       "JKncZ92AWUh9TFqFNHrzHu7nmbA7DByYN+jzN1gK4fM77liaAuPxOMaidT3CNCr4A620wo5j/WJh\n",
       "+O8YOGXa7WDwPe37pKywcnQY8hQA1PQf3NSFeo7jdksaf/wfO31+F0nGTwh6MZnMU7wYTyjfNbkM\n",
       "RdFj8JGtZSDDpWVS8Q3PTJ4tzOnC38l202GhCvHccox56N+Tc+EV3NMcsoua5bevz9hAexZ9POM1\n",
       "iomJJXyj91klGjM9RD2Vvvdp5PtDxmN0D8iRwWbWYViJCU/f+PB6RCpaO8ubQ/V8MmD7bQ/b1siu\n",
       "w+c9ZKnIPtdZEuWVEhl7O6sVEdrqsm7Yr0vzQiAeKQOa4b1JlwuQaCXcx3vS6/hncPn6E3ghsd2k\n",
       "mkI25wygUx4G4lu5AsXVpquVB+V2uoWCLGRzC2lGwd71FlRAHzOhpOXRBn0xOOVtu2Gk6JZ3ohbi\n",
       "s70AAAMAfRGy8oEkbQAAAnpBmiFsQR/+tSqC8pwYAON8nTixEizT7f6rG/DMC+xCMRi9C9LvT1Z/\n",
       "CRAj8s44tQzUj/3S8pGwtAp2Xws2fj9W/poIDiQEHmdkIP/YIApa5t7JpqePNQNwvqfQoC7vgWRl\n",
       "sTXAUhlC/cBgrfklvopPRXvmrvvu7kKxOvvnJi/ZMCoy50ceA/O4A0QcHlOY8Kwt+2fGC3PPJOUA\n",
       "dIkzWDivr7qkqRQn6ko3dJIAHKYSbEPv7MI49LmMstIOlGrcSSR0TN6w2xDWceumynN0CsT0vSaY\n",
       "oGYmocrztCB2wWQxSq6mJIzhzUb+I/jRLOLSq4yRdT8FdUUP5bAVvmzP+P/zlBg6vv7RZXZBbe2j\n",
       "MM/hpR50ZxCcJnw+LAUHYWzq6wLCsewPgGK+umkMl9qofh/wktIrlVtQrqKMO+Wb4g7/APnJ2TTM\n",
       "7mfHcfcXT++3zcg3QaJPbEOCGoXC//R8YujRrWiBRweziMOMhyCYt0L09Molhd7qNKJyEDQDuesQ\n",
       "4ATEOBaHqefMb2TgHhWq6WetCzzl/EsX3o7DXcB6ybjicvtnM9TtIP+211yNfQXl84cFyAngk6AV\n",
       "GSysnZGpgvDvpPksamV6xSoAc8/8L16S+e5y01uYXGqDD7meiocQrd9K+P3i1jk2x4FPdNx/eC6i\n",
       "KvV9QJKHlW9Sy8Y0yVgyiDGmJLzHa7vA3Nob4i7UmARf7bO658Dqa+Jdf3VlgTaqcwMteUpTwOFR\n",
       "nuq36fY4TgSIY7rMqpfvYLLCycDp56Od///7NAiJSSobLufYbYV0rj/3nxrvkMOfj64/JDT0NSSG\n",
       "qi99BJtM4D2rhgCQjddHB5/n+9VIkMVTAAACykGaQjwhkymEEf/+tSqADac+YBQ8b7shDwjXaanX\n",
       "F0UpV/4NjS0pjFwxoZma/NK+LFQH//UVJ+kFMBCCtAKXAy+XLsOC/5Qfwed4KwPQuR7AW2wdHrq+\n",
       "3CVHpn9Ko2YpWKDrhFCyaTvGVeb4f4EKnf1dP7N9JWzM9u+zbGuyRBmeYqYlZObOV1nxcmwqfptV\n",
       "pqWpQGcERt4VW/jBVZL/Anl3oBBojca3fRGPNj9BPSBVhUYumEin92DAhuDre3fBYDYixLtZOW6F\n",
       "q21sWQKhOgzNUdT0bueTzvZ5Qf6pUCDeugSRSGJ0steH80iCewzHX8lj1LLIM1n2sLMHE71mp+I3\n",
       "Dga3QqLx8oRB9kZ7be6SMOxSXSbUElBm+WKa2bakFI4GrLYOpNVS64QZ9R3fngRKYggjqyOn9JYf\n",
       "g6hsTQVf/+zBBLASLCcUfJsc5jOH+TDdvulfTeVJyr5akmBX589CjwvXkaK/2GUbZZWOgvtXATZ/\n",
       "b1VMz6xYwY2HfaakH0T0oDetTFLKq/yf6/VYm30aufKvD56ZywelUGoqKfbLQnTvpwlrRaFWcqcG\n",
       "w+hZwhoAu9EdO+3CGirO3ep5fZINfrEXq02vVZTnveQBFhYMLVySfKtutBKB+Ro7Pcyoa3qtYi/Q\n",
       "xBKxqOXPfrU0f7HJskq5wbku1FUnAd92grxEA5lNqajEZdf4mPbwB0AVWlPHab2FzFEBAOB0AGvw\n",
       "+Rao7Zp5uF5EfnBqB0Xr57hk52O5aQVnXI9zXmnu147Wp8nZz+X+RcsC/HoX1w0RmK2BnILRSgco\n",
       "mTA1apHvwebD/PCvaBvQHB/tiEvhQgobf3xSbm93B6qzh7UBhu+iEw9EbI5TOPDLMYNVoqMjahGH\n",
       "pG8XPsOwZhQVpnTrIOAstCzcZuAN/Yv/YZbsfJBTMgYJj4Y2AMbJmRCtI9BDbGxJNPR+O769+/wA\n",
       "/wAAAv1BmmNJ4Q8mUwIIf/6qVQAbT3dfFCegPRJSRUFTJX5QAmr57YnqJgI5o5H/sOOdnFFbxH0t\n",
       "hkiGH0j6RywlmjXBJ3OjHWGHh2XksZY/IKdr2BfaQ0d6gmjVxMT0pwXpeqnwNKmKiSD/++ISFU0Q\n",
       "E6EraAAHIjjZTp8pu0yyzutXyq2RsAlyqQUZbo1cA3gF8hXosOTwMx3EO5oVrVdrpY50kk/KWgyG\n",
       "aHS7ZQyC/0HGmC1b+MYXvW7rvMZ8zucyYkii6np4tbo196xv+heolFpTaL07YOhhBixO9bLpyB1M\n",
       "+fJl2bkIcwoncl8d6HFGoVDxh2IVdSXGbedHs0GIEWNfK4bvrr3S6BQJCqnE/RUQi8V3C3ZN9ew7\n",
       "yGFeWAIbMSNmZaHv7cOFkdl2a3gIXsOmcve0QwFp1I4qryOLh5fMPLktwAx1gIZkN0sHBBjqHXmT\n",
       "/tBp2mzy4JgftAYtbZUgFn6xUk/TWrMGluU1+Nem5tcAj27S6hOEWYQq141Xs9cbbRdzTjG9Tnfj\n",
       "QxCziev23IKrE/6LyRDxuxGTOQMVHtTXIs/EncVS/bRz3GuvuJ6fNq7G/AIEdxr1x6iGG+eeaZ0P\n",
       "DayQbFqcuY1tLPRTIVGZwhX2keK4StPkkfq/EV0zkcHTWoUPaZRLO4GZr3OpGihAwPRKzzxIaXfF\n",
       "u4IanhhbXOlzx9hbLXekxXp6OooUteu+XEyn6gnh6Qfvm8GugDjoAipkbQ2C+xtd7qK4NUWs3DDM\n",
       "YoqCSyXK7MmRWkGmJmwybs57HcOYgHOEb6wJoEK2osS/lY2/aVrP3U4Q8B3g9nJ1W8o1eRzX0ifL\n",
       "amB+1syYrp85eiker73UopTcOmMlCd60kR7Fof5iXlW3zexM0yat2+6Q6LpohJ9pCHdwEHqsl1lE\n",
       "QHxo3vl6UTiinp7YkQL6lzq+nSU4XBNuhLnAqgURoyKSpbqgRMG1bPNTCLpJciLHXyoOrP+zkJHn\n",
       "j0bsdH8b5i+t+9mP6G64KrdJ2yHHBK8VdgNeJ4AAAAKZQZqESeEPJlMCH//+qZYANBxe35lW9CRu\n",
       "oAcbyGrUgAPDP7VwC/95MWK4CJIqlTln4tEzu3usLIoLaVOxJ6sl9KxVXKGK6uFC/zOB4laxNn7c\n",
       "UjEsG4cMVCySo4/4aL9NI88wfHn4+UIyffGl/PLPdvAD8I7zrBiFdU8A3wa5Bh/PS6A7QGv2E/48\n",
       "wdb9yWgNHw8VP9qe4BTRe7je9jeR1zal+9HGJOhT3LpAdzzo3m0ha5QFXLQu6qK+oVr+JJdSDmAx\n",
       "qI6L/i7A/H1jzGlyrN0mqwV95qKle82CmAEFuJFs80ue+7T4DTF1wlnmNQzbBZJDIWOnJYxpxwLx\n",
       "Zm01/w8doe+hpCJxpRZfL8IU4ryrcGWsC62nDrz796wIOPqlDA76fRxuuISgQaWrAwIBCOFZW522\n",
       "nOYBxx++AuBSuMxKVvLMWc46paDbdTFAZ+J5GGJ2S7GVvSzvp+y4Iq7E6CsMZqpjcpaw9j/8Vuih\n",
       "ViHlccoxRwuayuVYXakx//ys5gtoP/b38TFroWUdKgq5jYzKsxUvOrq7ialrIvIKJtgcHWPRYlvz\n",
       "jsvbIzqka/YfwPSTnIKAOivqWqkQkcsiG9bn0/46qT3gPCTGTjnDJ1rXlV/j7SctkN++5+66aE7u\n",
       "jkCJytqm1aZwhwoWPNDmkxx3ViRdHbuJQtl3qqLoSfdnGfLzLccaN5OwvvmU4jrTGVHVEgZstdpe\n",
       "LjF+Ai2khyoUtpXrfennq3kVeH+brfx+X2lda98GxB5KhdwH1y4dR0G1nK8AIMUY/9gpt0P/y/hl\n",
       "KBXw06G+fPOaIpmb3QyMjVHAE7jsZt2yb4/yMH7gSMw57mv2fENBMcjtmJ3ytOFipd6gJ7agjQOO\n",
       "vVy1vjL5HDT17rDEbjEAAAMtbW9vdgAAAGxtdmhkAAAAAAAAAAAAAAAAAAAD6AAAA+gAAQAAAQAA\n",
       "AAAAAAAAAAAAAAEAAAAAAAAAAAAAAAAAAAABAAAAAAAAAAAAAAAAAABAAAAAAAAAAAAAAAAAAAAA\n",
       "AAAAAAAAAAAAAAAAAAAAAgAAAld0cmFrAAAAXHRraGQAAAADAAAAAAAAAAAAAAABAAAAAAAAA+gA\n",
       "AAAAAAAAAAAAAAAAAAAAAAEAAAAAAAAAAAAAAAAAAAABAAAAAAAAAAAAAAAAAABAAAAAAbAAAAEg\n",
       "AAAAAAAkZWR0cwAAABxlbHN0AAAAAAAAAAEAAAPoAAAQAAABAAAAAAHPbWRpYQAAACBtZGhkAAAA\n",
       "AAAAAAAAAAAAAAAoAAAAKABVxAAAAAAALWhkbHIAAAAAAAAAAHZpZGUAAAAAAAAAAAAAAABWaWRl\n",
       "b0hhbmRsZXIAAAABem1pbmYAAAAUdm1oZAAAAAEAAAAAAAAAAAAAACRkaW5mAAAAHGRyZWYAAAAA\n",
       "AAAAAQAAAAx1cmwgAAAAAQAAATpzdGJsAAAAlnN0c2QAAAAAAAAAAQAAAIZhdmMxAAAAAAAAAAEA\n",
       "AAAAAAAAAAAAAAAAAAAAAbABIABIAAAASAAAAAAAAAABAAAAAAAAAAAAAAAAAAAAAAAAAAAAAAAA\n",
       "AAAAAAAAAAAAGP//AAAAMGF2Y0MB9AAV/+EAF2f0ABWRmyg2EtCAAAADAIAAAAUHixbLAQAGaOvj\n",
       "xEhEAAAAGHN0dHMAAAAAAAAAAQAAAAUAAAgAAAAAFHN0c3MAAAAAAAAAAQAAAAEAAAAYY3R0cwAA\n",
       "AAAAAAABAAAABQAAEAAAAAAcc3RzYwAAAAAAAAABAAAAAQAAAAUAAAABAAAAKHN0c3oAAAAAAAAA\n",
       "AAAAAAUAAAvjAAACfgAAAs4AAAMBAAACnQAAABRzdGNvAAAAAAAAAAEAAAAwAAAAYnVkdGEAAABa\n",
       "bWV0YQAAAAAAAAAhaGRscgAAAAAAAAAAbWRpcmFwcGwAAAAAAAAAAAAAAAAtaWxzdAAAACWpdG9v\n",
       "AAAAHWRhdGEAAAABAAAAAExhdmY1Ni4yNS4xMDE=\n",
       "\" type=\"video/mp4\">\n",
       " Your browser does not support the video tag.\n",
       "</video>"
      ],
      "text/plain": [
       "<IPython.core.display.HTML object>"
      ]
     },
     "execution_count": 17,
     "metadata": {},
     "output_type": "execute_result"
    }
   ],
   "source": [
    "# First set up the figure, the axis, and the plot element we want to animate\n",
    "fig = plt.figure()\n",
    "ax = plt.axes(xlim=(0, 10), ylim=(0, 5))\n",
    "line, = ax.plot([], [], 'k-o', lw=2,)\n",
    "\n",
    "\n",
    "# call the animator.  blit=True means only re-draw the parts that have changed.\n",
    "anim = animation.FuncAnimation(fig, animate, init_func=init,\n",
    "                               frames=len(dumps['rho']), interval=2000, blit=True)\n",
    "\n",
    "# call our new function to display the animation\n",
    "display_animation(anim)"
   ]
  },
  {
   "cell_type": "code",
   "execution_count": null,
   "metadata": {
    "collapsed": true
   },
   "outputs": [],
   "source": []
  }
 ],
 "metadata": {
  "kernelspec": {
   "display_name": "Python 2",
   "language": "python",
   "name": "python2"
  },
  "language_info": {
   "codemirror_mode": {
    "name": "ipython",
    "version": 2
   },
   "file_extension": ".py",
   "mimetype": "text/x-python",
   "name": "python",
   "nbconvert_exporter": "python",
   "pygments_lexer": "ipython2",
   "version": "2.7.9"
  }
 },
 "nbformat": 4,
 "nbformat_minor": 0
}
